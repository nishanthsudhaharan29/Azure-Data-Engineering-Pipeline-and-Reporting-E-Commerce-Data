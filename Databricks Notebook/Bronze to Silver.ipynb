{
 "cells": [
  {
   "cell_type": "code",
   "execution_count": 0,
   "metadata": {
    "application/vnd.databricks.v1+cell": {
     "cellMetadata": {
      "byteLimit": 2048000,
      "rowLimit": 10000
     },
     "inputWidgets": {},
     "nuid": "95333b4f-3808-4375-95c2-5a32e00bc6c2",
     "showTitle": false,
     "tableResultSettingsMap": {},
     "title": ""
    }
   },
   "outputs": [],
   "source": [
    "from pyspark.sql.functions import *\n",
    "from pyspark.sql.types import *\n",
    "import json"
   ]
  },
  {
   "cell_type": "code",
   "execution_count": 0,
   "metadata": {
    "application/vnd.databricks.v1+cell": {
     "cellMetadata": {
      "byteLimit": 2048000,
      "rowLimit": 10000
     },
     "inputWidgets": {},
     "nuid": "aecd81ee-022e-4103-a583-48df8029e933",
     "showTitle": false,
     "tableResultSettingsMap": {},
     "title": ""
    }
   },
   "outputs": [
    {
     "output_type": "execute_result",
     "data": {
      "text/plain": [
       "[FileInfo(path='abfss://bronze@salesadls2.dfs.core.windows.net/SalesLT/Address/', name='Address/', size=0, modificationTime=1746921052000),\n",
       " FileInfo(path='abfss://bronze@salesadls2.dfs.core.windows.net/SalesLT/Customer/', name='Customer/', size=0, modificationTime=1746921051000),\n",
       " FileInfo(path='abfss://bronze@salesadls2.dfs.core.windows.net/SalesLT/CustomerAddress/', name='CustomerAddress/', size=0, modificationTime=1746921054000),\n",
       " FileInfo(path='abfss://bronze@salesadls2.dfs.core.windows.net/SalesLT/Product/', name='Product/', size=0, modificationTime=1746921054000),\n",
       " FileInfo(path='abfss://bronze@salesadls2.dfs.core.windows.net/SalesLT/ProductCategory/', name='ProductCategory/', size=0, modificationTime=1746921050000),\n",
       " FileInfo(path='abfss://bronze@salesadls2.dfs.core.windows.net/SalesLT/ProductDescription/', name='ProductDescription/', size=0, modificationTime=1746921050000),\n",
       " FileInfo(path='abfss://bronze@salesadls2.dfs.core.windows.net/SalesLT/ProductModel/', name='ProductModel/', size=0, modificationTime=1746921053000),\n",
       " FileInfo(path='abfss://bronze@salesadls2.dfs.core.windows.net/SalesLT/ProductModelProductDescription/', name='ProductModelProductDescription/', size=0, modificationTime=1746921050000),\n",
       " FileInfo(path='abfss://bronze@salesadls2.dfs.core.windows.net/SalesLT/SalesOrderDetail/', name='SalesOrderDetail/', size=0, modificationTime=1746921051000),\n",
       " FileInfo(path='abfss://bronze@salesadls2.dfs.core.windows.net/SalesLT/SalesOrderHeader/', name='SalesOrderHeader/', size=0, modificationTime=1746921050000)]"
      ]
     },
     "execution_count": 2,
     "metadata": {},
     "output_type": "execute_result"
    }
   ],
   "source": [
    "# mount ADLS\n",
    "tiers = ['bronze', 'silver', 'gold']\n",
    "adls_path = {tier: f\"abfss://{tier}@salesadls2.dfs.core.windows.net/\" for tier in tiers}\n",
    "# assign the reference path to each ADLS\n",
    "bronze_adls = adls_path['bronze']\n",
    "silver_adls = adls_path['silver']\n",
    "gold_adls = adls_path['gold']\n",
    "# list the files in the bronze ADLS\n",
    "dbutils.fs.ls(f\"{bronze_adls}/SalesLT\")"
   ]
  },
  {
   "cell_type": "code",
   "execution_count": 0,
   "metadata": {
    "application/vnd.databricks.v1+cell": {
     "cellMetadata": {
      "byteLimit": 2048000,
      "rowLimit": 10000
     },
     "inputWidgets": {},
     "nuid": "d66e4644-ee57-4566-9d4b-4482f574b395",
     "showTitle": false,
     "tableResultSettingsMap": {},
     "title": ""
    }
   },
   "outputs": [
    {
     "output_type": "display_data",
     "data": {
      "text/html": [
       "<style scoped>\n",
       "  .table-result-container {\n",
       "    max-height: 300px;\n",
       "    overflow: auto;\n",
       "  }\n",
       "  table, th, td {\n",
       "    border: 1px solid black;\n",
       "    border-collapse: collapse;\n",
       "  }\n",
       "  th, td {\n",
       "    padding: 5px;\n",
       "  }\n",
       "  th {\n",
       "    text-align: left;\n",
       "  }\n",
       "</style><div class='table-result-container'><table class='table-result'><thead style='background-color: white'><tr><th>AddressID</th><th>AddressLine1</th><th>AddressLine2</th><th>City</th><th>StateProvince</th><th>CountryRegion</th><th>PostalCode</th><th>rowguid</th><th>ModifiedDate</th></tr></thead><tbody><tr><td>9</td><td>8713 Yosemite Ct.</td><td>null</td><td>Bothell</td><td>Washington</td><td>United States</td><td>98011</td><td>268af621-76d7-4c78-9441-144fd139821a</td><td>2006-07-01T00:00:00Z</td></tr><tr><td>11</td><td>1318 Lasalle Street</td><td>null</td><td>Bothell</td><td>Washington</td><td>United States</td><td>98011</td><td>981b3303-aca2-49c7-9a96-fb670785b269</td><td>2007-04-01T00:00:00Z</td></tr><tr><td>25</td><td>9178 Jumping St.</td><td>null</td><td>Dallas</td><td>Texas</td><td>United States</td><td>75201</td><td>c8df3bd9-48f0-4654-a8dd-14a67a84d3c6</td><td>2006-09-01T00:00:00Z</td></tr><tr><td>28</td><td>9228 Via Del Sol</td><td>null</td><td>Phoenix</td><td>Arizona</td><td>United States</td><td>85004</td><td>12ae5ee1-fc3e-468b-9b92-3b970b169774</td><td>2005-09-01T00:00:00Z</td></tr><tr><td>32</td><td>26910 Indela Road</td><td>null</td><td>Montreal</td><td>Quebec</td><td>Canada</td><td>H1Y 2H5</td><td>84a95f62-3ae8-4e7e-bbd5-5a6f00cd982d</td><td>2006-08-01T00:00:00Z</td></tr><tr><td>185</td><td>2681 Eagle Peak</td><td>null</td><td>Bellevue</td><td>Washington</td><td>United States</td><td>98004</td><td>7bccf442-2268-46cc-8472-14c44c14e98c</td><td>2006-09-01T00:00:00Z</td></tr><tr><td>297</td><td>7943 Walnut Ave</td><td>null</td><td>Renton</td><td>Washington</td><td>United States</td><td>98055</td><td>52410da4-2778-4b1d-a599-95746625ce6d</td><td>2006-08-01T00:00:00Z</td></tr><tr><td>445</td><td>6388 Lake City Way</td><td>null</td><td>Burnaby</td><td>British Columbia</td><td>Canada</td><td>V5A 3A6</td><td>53572f25-9133-4a8b-a065-102ff35416ee</td><td>2006-09-01T00:00:00Z</td></tr><tr><td>446</td><td>52560 Free Street</td><td>null</td><td>Toronto</td><td>Ontario</td><td>Canada</td><td>M4B 1V7</td><td>801a1dfc-5125-486b-aa84-ccbd2ec57ca4</td><td>2005-08-01T00:00:00Z</td></tr><tr><td>447</td><td>22580 Free Street</td><td>null</td><td>Toronto</td><td>Ontario</td><td>Canada</td><td>M4B 1V7</td><td>88cee379-dbb8-433b-b84e-a35e09435500</td><td>2006-08-01T00:00:00Z</td></tr><tr><td>448</td><td>2575 Bloor Street East</td><td>null</td><td>Toronto</td><td>Ontario</td><td>Canada</td><td>M4B 1V6</td><td>2df6d0ad-0926-4f34-a450-9b1083150cbf</td><td>2007-08-01T00:00:00Z</td></tr><tr><td>449</td><td>Station E</td><td>null</td><td>Chalk Riber</td><td>Ontario</td><td>Canada</td><td>K0J 1J0</td><td>8b5a7729-cb75-4303-a607-7f9793b4d94f</td><td>2005-08-01T00:00:00Z</td></tr><tr><td>450</td><td>575 Rue St Amable</td><td>null</td><td>Quebec</td><td>Quebec</td><td>Canada</td><td>G1R</td><td>5f3c345a-6475-41d5-b17b-db8d27733bb1</td><td>2006-09-01T00:00:00Z</td></tr><tr><td>451</td><td>2512-4th Ave Sw</td><td>null</td><td>Calgary</td><td>Alberta</td><td>Canada</td><td>T2P 2G8</td><td>49644f1e-6f90-46d9-8dbb-9db15f0ef7ec</td><td>2006-12-01T00:00:00Z</td></tr><tr><td>452</td><td>55 Lakeshore Blvd East</td><td>null</td><td>Toronto</td><td>Ontario</td><td>Canada</td><td>M4B 1V6</td><td>a358652f-0e00-49e6-b6b0-de1099c43506</td><td>2005-09-01T00:00:00Z</td></tr><tr><td>453</td><td>6333 Cote Vertu</td><td>null</td><td>Montreal</td><td>Quebec</td><td>Canada</td><td>H1Y 2H7</td><td>355681f2-4d9d-4522-bfa0-105be64394d8</td><td>2007-09-01T00:00:00Z</td></tr><tr><td>454</td><td>3255 Front Street West</td><td>null</td><td>Toronto</td><td>Ontario</td><td>Canada</td><td>M4B 1V6</td><td>ef4dc57d-8b8b-4074-b5f0-acbef65dbec1</td><td>2007-08-01T00:00:00Z</td></tr><tr><td>455</td><td>2550 Signet Drive</td><td>null</td><td>Weston</td><td>Ontario</td><td>Canada</td><td>M9V 4W3</td><td>43d582cf-e95f-4861-ba60-2dc7121410a6</td><td>2006-08-01T00:00:00Z</td></tr><tr><td>456</td><td>6777 Kingsway</td><td>null</td><td>Burnaby</td><td>British Columbia</td><td>Canada</td><td>V5H 3Z7</td><td>2f3b383e-08a5-407d-ab1b-a1390e87a888</td><td>2006-08-01T00:00:00Z</td></tr><tr><td>457</td><td>5250-505 Burning St</td><td>null</td><td>Vancouver</td><td>British Columbia</td><td>Canada</td><td>V7L 4J4</td><td>93f02c61-783d-4f04-8a57-416f25817aba</td><td>2006-07-01T00:00:00Z</td></tr></tbody></table></div>"
      ]
     },
     "metadata": {
      "application/vnd.databricks.v1+output": {
       "addedWidgets": {},
       "aggData": [],
       "aggError": "",
       "aggOverflow": false,
       "aggSchema": [],
       "aggSeriesLimitReached": false,
       "aggType": "",
       "arguments": {},
       "columnCustomDisplayInfos": {},
       "data": [
        [
         9,
         "8713 Yosemite Ct.",
         null,
         "Bothell",
         "Washington",
         "United States",
         "98011",
         "268af621-76d7-4c78-9441-144fd139821a",
         "2006-07-01T00:00:00Z"
        ],
        [
         11,
         "1318 Lasalle Street",
         null,
         "Bothell",
         "Washington",
         "United States",
         "98011",
         "981b3303-aca2-49c7-9a96-fb670785b269",
         "2007-04-01T00:00:00Z"
        ],
        [
         25,
         "9178 Jumping St.",
         null,
         "Dallas",
         "Texas",
         "United States",
         "75201",
         "c8df3bd9-48f0-4654-a8dd-14a67a84d3c6",
         "2006-09-01T00:00:00Z"
        ],
        [
         28,
         "9228 Via Del Sol",
         null,
         "Phoenix",
         "Arizona",
         "United States",
         "85004",
         "12ae5ee1-fc3e-468b-9b92-3b970b169774",
         "2005-09-01T00:00:00Z"
        ],
        [
         32,
         "26910 Indela Road",
         null,
         "Montreal",
         "Quebec",
         "Canada",
         "H1Y 2H5",
         "84a95f62-3ae8-4e7e-bbd5-5a6f00cd982d",
         "2006-08-01T00:00:00Z"
        ],
        [
         185,
         "2681 Eagle Peak",
         null,
         "Bellevue",
         "Washington",
         "United States",
         "98004",
         "7bccf442-2268-46cc-8472-14c44c14e98c",
         "2006-09-01T00:00:00Z"
        ],
        [
         297,
         "7943 Walnut Ave",
         null,
         "Renton",
         "Washington",
         "United States",
         "98055",
         "52410da4-2778-4b1d-a599-95746625ce6d",
         "2006-08-01T00:00:00Z"
        ],
        [
         445,
         "6388 Lake City Way",
         null,
         "Burnaby",
         "British Columbia",
         "Canada",
         "V5A 3A6",
         "53572f25-9133-4a8b-a065-102ff35416ee",
         "2006-09-01T00:00:00Z"
        ],
        [
         446,
         "52560 Free Street",
         null,
         "Toronto",
         "Ontario",
         "Canada",
         "M4B 1V7",
         "801a1dfc-5125-486b-aa84-ccbd2ec57ca4",
         "2005-08-01T00:00:00Z"
        ],
        [
         447,
         "22580 Free Street",
         null,
         "Toronto",
         "Ontario",
         "Canada",
         "M4B 1V7",
         "88cee379-dbb8-433b-b84e-a35e09435500",
         "2006-08-01T00:00:00Z"
        ],
        [
         448,
         "2575 Bloor Street East",
         null,
         "Toronto",
         "Ontario",
         "Canada",
         "M4B 1V6",
         "2df6d0ad-0926-4f34-a450-9b1083150cbf",
         "2007-08-01T00:00:00Z"
        ],
        [
         449,
         "Station E",
         null,
         "Chalk Riber",
         "Ontario",
         "Canada",
         "K0J 1J0",
         "8b5a7729-cb75-4303-a607-7f9793b4d94f",
         "2005-08-01T00:00:00Z"
        ],
        [
         450,
         "575 Rue St Amable",
         null,
         "Quebec",
         "Quebec",
         "Canada",
         "G1R",
         "5f3c345a-6475-41d5-b17b-db8d27733bb1",
         "2006-09-01T00:00:00Z"
        ],
        [
         451,
         "2512-4th Ave Sw",
         null,
         "Calgary",
         "Alberta",
         "Canada",
         "T2P 2G8",
         "49644f1e-6f90-46d9-8dbb-9db15f0ef7ec",
         "2006-12-01T00:00:00Z"
        ],
        [
         452,
         "55 Lakeshore Blvd East",
         null,
         "Toronto",
         "Ontario",
         "Canada",
         "M4B 1V6",
         "a358652f-0e00-49e6-b6b0-de1099c43506",
         "2005-09-01T00:00:00Z"
        ],
        [
         453,
         "6333 Cote Vertu",
         null,
         "Montreal",
         "Quebec",
         "Canada",
         "H1Y 2H7",
         "355681f2-4d9d-4522-bfa0-105be64394d8",
         "2007-09-01T00:00:00Z"
        ],
        [
         454,
         "3255 Front Street West",
         null,
         "Toronto",
         "Ontario",
         "Canada",
         "M4B 1V6",
         "ef4dc57d-8b8b-4074-b5f0-acbef65dbec1",
         "2007-08-01T00:00:00Z"
        ],
        [
         455,
         "2550 Signet Drive",
         null,
         "Weston",
         "Ontario",
         "Canada",
         "M9V 4W3",
         "43d582cf-e95f-4861-ba60-2dc7121410a6",
         "2006-08-01T00:00:00Z"
        ],
        [
         456,
         "6777 Kingsway",
         null,
         "Burnaby",
         "British Columbia",
         "Canada",
         "V5H 3Z7",
         "2f3b383e-08a5-407d-ab1b-a1390e87a888",
         "2006-08-01T00:00:00Z"
        ],
        [
         457,
         "5250-505 Burning St",
         null,
         "Vancouver",
         "British Columbia",
         "Canada",
         "V7L 4J4",
         "93f02c61-783d-4f04-8a57-416f25817aba",
         "2006-07-01T00:00:00Z"
        ]
       ],
       "datasetInfos": [],
       "dbfsResultPath": null,
       "isJsonSchema": true,
       "metadata": {},
       "overflow": false,
       "plotOptions": {
        "customPlotOptions": {},
        "displayType": "table",
        "pivotAggregation": null,
        "pivotColumns": null,
        "xColumns": null,
        "yColumns": null
       },
       "removedWidgets": [],
       "schema": [
        {
         "metadata": "{}",
         "name": "AddressID",
         "type": "\"integer\""
        },
        {
         "metadata": "{}",
         "name": "AddressLine1",
         "type": "\"string\""
        },
        {
         "metadata": "{}",
         "name": "AddressLine2",
         "type": "\"string\""
        },
        {
         "metadata": "{}",
         "name": "City",
         "type": "\"string\""
        },
        {
         "metadata": "{}",
         "name": "StateProvince",
         "type": "\"string\""
        },
        {
         "metadata": "{}",
         "name": "CountryRegion",
         "type": "\"string\""
        },
        {
         "metadata": "{}",
         "name": "PostalCode",
         "type": "\"string\""
        },
        {
         "metadata": "{}",
         "name": "rowguid",
         "type": "\"string\""
        },
        {
         "metadata": "{}",
         "name": "ModifiedDate",
         "type": "\"timestamp\""
        }
       ],
       "type": "table"
      }
     },
     "output_type": "display_data"
    }
   ],
   "source": [
    "# read any one table to check the structure\n",
    "df = spark.read\\\n",
    "    .format('parquet')\\\n",
    "        .load(f\"{bronze_adls}/SalesLT/Address/Address.parquet\")\n",
    "df.limit(20).display()"
   ]
  },
  {
   "cell_type": "code",
   "execution_count": 0,
   "metadata": {
    "application/vnd.databricks.v1+cell": {
     "cellMetadata": {
      "byteLimit": 2048000,
      "rowLimit": 10000
     },
     "inputWidgets": {},
     "nuid": "a03c76c5-124a-4584-9d2d-280331ef5568",
     "showTitle": false,
     "tableResultSettingsMap": {},
     "title": ""
    }
   },
   "outputs": [
    {
     "output_type": "stream",
     "name": "stdout",
     "output_type": "stream",
     "text": [
      "root\n |-- AddressID: integer (nullable = true)\n |-- AddressLine1: string (nullable = true)\n |-- AddressLine2: string (nullable = true)\n |-- City: string (nullable = true)\n |-- StateProvince: string (nullable = true)\n |-- CountryRegion: string (nullable = true)\n |-- PostalCode: string (nullable = true)\n |-- rowguid: string (nullable = true)\n |-- ModifiedDate: timestamp (nullable = true)\n\n"
     ]
    }
   ],
   "source": [
    "# check th schema\n",
    "df.printSchema()"
   ]
  },
  {
   "cell_type": "code",
   "execution_count": 0,
   "metadata": {
    "application/vnd.databricks.v1+cell": {
     "cellMetadata": {
      "byteLimit": 2048000,
      "rowLimit": 10000
     },
     "inputWidgets": {},
     "nuid": "fa264369-836a-4cfc-acd6-f5a76d51362b",
     "showTitle": false,
     "tableResultSettingsMap": {},
     "title": ""
    }
   },
   "outputs": [
    {
     "output_type": "display_data",
     "data": {
      "text/html": [
       "<style scoped>\n",
       "  .table-result-container {\n",
       "    max-height: 300px;\n",
       "    overflow: auto;\n",
       "  }\n",
       "  table, th, td {\n",
       "    border: 1px solid black;\n",
       "    border-collapse: collapse;\n",
       "  }\n",
       "  th, td {\n",
       "    padding: 5px;\n",
       "  }\n",
       "  th {\n",
       "    text-align: left;\n",
       "  }\n",
       "</style><div class='table-result-container'><table class='table-result'><thead style='background-color: white'><tr><th>ModifiedDate</th></tr></thead><tbody><tr><td>2006-07-01T00:00:00Z</td></tr><tr><td>2007-04-01T00:00:00Z</td></tr><tr><td>2006-09-01T00:00:00Z</td></tr><tr><td>2005-09-01T00:00:00Z</td></tr><tr><td>2006-08-01T00:00:00Z</td></tr><tr><td>2006-09-01T00:00:00Z</td></tr><tr><td>2006-08-01T00:00:00Z</td></tr><tr><td>2006-09-01T00:00:00Z</td></tr><tr><td>2005-08-01T00:00:00Z</td></tr><tr><td>2006-08-01T00:00:00Z</td></tr><tr><td>2007-08-01T00:00:00Z</td></tr><tr><td>2005-08-01T00:00:00Z</td></tr><tr><td>2006-09-01T00:00:00Z</td></tr><tr><td>2006-12-01T00:00:00Z</td></tr><tr><td>2005-09-01T00:00:00Z</td></tr><tr><td>2007-09-01T00:00:00Z</td></tr><tr><td>2007-08-01T00:00:00Z</td></tr><tr><td>2006-08-01T00:00:00Z</td></tr><tr><td>2006-08-01T00:00:00Z</td></tr><tr><td>2006-07-01T00:00:00Z</td></tr></tbody></table></div>"
      ]
     },
     "metadata": {
      "application/vnd.databricks.v1+output": {
       "addedWidgets": {},
       "aggData": [],
       "aggError": "",
       "aggOverflow": false,
       "aggSchema": [],
       "aggSeriesLimitReached": false,
       "aggType": "",
       "arguments": {},
       "columnCustomDisplayInfos": {},
       "data": [
        [
         "2006-07-01T00:00:00Z"
        ],
        [
         "2007-04-01T00:00:00Z"
        ],
        [
         "2006-09-01T00:00:00Z"
        ],
        [
         "2005-09-01T00:00:00Z"
        ],
        [
         "2006-08-01T00:00:00Z"
        ],
        [
         "2006-09-01T00:00:00Z"
        ],
        [
         "2006-08-01T00:00:00Z"
        ],
        [
         "2006-09-01T00:00:00Z"
        ],
        [
         "2005-08-01T00:00:00Z"
        ],
        [
         "2006-08-01T00:00:00Z"
        ],
        [
         "2007-08-01T00:00:00Z"
        ],
        [
         "2005-08-01T00:00:00Z"
        ],
        [
         "2006-09-01T00:00:00Z"
        ],
        [
         "2006-12-01T00:00:00Z"
        ],
        [
         "2005-09-01T00:00:00Z"
        ],
        [
         "2007-09-01T00:00:00Z"
        ],
        [
         "2007-08-01T00:00:00Z"
        ],
        [
         "2006-08-01T00:00:00Z"
        ],
        [
         "2006-08-01T00:00:00Z"
        ],
        [
         "2006-07-01T00:00:00Z"
        ]
       ],
       "datasetInfos": [],
       "dbfsResultPath": null,
       "isJsonSchema": true,
       "metadata": {},
       "overflow": false,
       "plotOptions": {
        "customPlotOptions": {},
        "displayType": "table",
        "pivotAggregation": null,
        "pivotColumns": null,
        "xColumns": null,
        "yColumns": null
       },
       "removedWidgets": [],
       "schema": [
        {
         "metadata": "{}",
         "name": "ModifiedDate",
         "type": "\"timestamp\""
        }
       ],
       "type": "table"
      }
     },
     "output_type": "display_data"
    }
   ],
   "source": [
    "# the date format is dirty and not easy to read\n",
    "df.select('ModifiedDate').limit(20).display()"
   ]
  },
  {
   "cell_type": "code",
   "execution_count": 0,
   "metadata": {
    "application/vnd.databricks.v1+cell": {
     "cellMetadata": {
      "byteLimit": 2048000,
      "rowLimit": 10000
     },
     "inputWidgets": {},
     "nuid": "b4739228-0727-457e-b692-5c8143c60146",
     "showTitle": false,
     "tableResultSettingsMap": {},
     "title": ""
    }
   },
   "outputs": [
    {
     "output_type": "display_data",
     "data": {
      "text/html": [
       "<style scoped>\n",
       "  .table-result-container {\n",
       "    max-height: 300px;\n",
       "    overflow: auto;\n",
       "  }\n",
       "  table, th, td {\n",
       "    border: 1px solid black;\n",
       "    border-collapse: collapse;\n",
       "  }\n",
       "  th, td {\n",
       "    padding: 5px;\n",
       "  }\n",
       "  th {\n",
       "    text-align: left;\n",
       "  }\n",
       "</style><div class='table-result-container'><table class='table-result'><thead style='background-color: white'><tr><th>AddressID</th><th>AddressLine1</th><th>AddressLine2</th><th>City</th><th>StateProvince</th><th>CountryRegion</th><th>PostalCode</th><th>rowguid</th><th>ModifiedDate</th></tr></thead><tbody><tr><td>9</td><td>8713 Yosemite Ct.</td><td>null</td><td>Bothell</td><td>Washington</td><td>United States</td><td>98011</td><td>268af621-76d7-4c78-9441-144fd139821a</td><td>2006-07-01</td></tr><tr><td>11</td><td>1318 Lasalle Street</td><td>null</td><td>Bothell</td><td>Washington</td><td>United States</td><td>98011</td><td>981b3303-aca2-49c7-9a96-fb670785b269</td><td>2007-04-01</td></tr><tr><td>25</td><td>9178 Jumping St.</td><td>null</td><td>Dallas</td><td>Texas</td><td>United States</td><td>75201</td><td>c8df3bd9-48f0-4654-a8dd-14a67a84d3c6</td><td>2006-09-01</td></tr><tr><td>28</td><td>9228 Via Del Sol</td><td>null</td><td>Phoenix</td><td>Arizona</td><td>United States</td><td>85004</td><td>12ae5ee1-fc3e-468b-9b92-3b970b169774</td><td>2005-09-01</td></tr><tr><td>32</td><td>26910 Indela Road</td><td>null</td><td>Montreal</td><td>Quebec</td><td>Canada</td><td>H1Y 2H5</td><td>84a95f62-3ae8-4e7e-bbd5-5a6f00cd982d</td><td>2006-08-01</td></tr><tr><td>185</td><td>2681 Eagle Peak</td><td>null</td><td>Bellevue</td><td>Washington</td><td>United States</td><td>98004</td><td>7bccf442-2268-46cc-8472-14c44c14e98c</td><td>2006-09-01</td></tr><tr><td>297</td><td>7943 Walnut Ave</td><td>null</td><td>Renton</td><td>Washington</td><td>United States</td><td>98055</td><td>52410da4-2778-4b1d-a599-95746625ce6d</td><td>2006-08-01</td></tr><tr><td>445</td><td>6388 Lake City Way</td><td>null</td><td>Burnaby</td><td>British Columbia</td><td>Canada</td><td>V5A 3A6</td><td>53572f25-9133-4a8b-a065-102ff35416ee</td><td>2006-09-01</td></tr><tr><td>446</td><td>52560 Free Street</td><td>null</td><td>Toronto</td><td>Ontario</td><td>Canada</td><td>M4B 1V7</td><td>801a1dfc-5125-486b-aa84-ccbd2ec57ca4</td><td>2005-08-01</td></tr><tr><td>447</td><td>22580 Free Street</td><td>null</td><td>Toronto</td><td>Ontario</td><td>Canada</td><td>M4B 1V7</td><td>88cee379-dbb8-433b-b84e-a35e09435500</td><td>2006-08-01</td></tr><tr><td>448</td><td>2575 Bloor Street East</td><td>null</td><td>Toronto</td><td>Ontario</td><td>Canada</td><td>M4B 1V6</td><td>2df6d0ad-0926-4f34-a450-9b1083150cbf</td><td>2007-08-01</td></tr><tr><td>449</td><td>Station E</td><td>null</td><td>Chalk Riber</td><td>Ontario</td><td>Canada</td><td>K0J 1J0</td><td>8b5a7729-cb75-4303-a607-7f9793b4d94f</td><td>2005-08-01</td></tr><tr><td>450</td><td>575 Rue St Amable</td><td>null</td><td>Quebec</td><td>Quebec</td><td>Canada</td><td>G1R</td><td>5f3c345a-6475-41d5-b17b-db8d27733bb1</td><td>2006-09-01</td></tr><tr><td>451</td><td>2512-4th Ave Sw</td><td>null</td><td>Calgary</td><td>Alberta</td><td>Canada</td><td>T2P 2G8</td><td>49644f1e-6f90-46d9-8dbb-9db15f0ef7ec</td><td>2006-12-01</td></tr><tr><td>452</td><td>55 Lakeshore Blvd East</td><td>null</td><td>Toronto</td><td>Ontario</td><td>Canada</td><td>M4B 1V6</td><td>a358652f-0e00-49e6-b6b0-de1099c43506</td><td>2005-09-01</td></tr><tr><td>453</td><td>6333 Cote Vertu</td><td>null</td><td>Montreal</td><td>Quebec</td><td>Canada</td><td>H1Y 2H7</td><td>355681f2-4d9d-4522-bfa0-105be64394d8</td><td>2007-09-01</td></tr><tr><td>454</td><td>3255 Front Street West</td><td>null</td><td>Toronto</td><td>Ontario</td><td>Canada</td><td>M4B 1V6</td><td>ef4dc57d-8b8b-4074-b5f0-acbef65dbec1</td><td>2007-08-01</td></tr><tr><td>455</td><td>2550 Signet Drive</td><td>null</td><td>Weston</td><td>Ontario</td><td>Canada</td><td>M9V 4W3</td><td>43d582cf-e95f-4861-ba60-2dc7121410a6</td><td>2006-08-01</td></tr><tr><td>456</td><td>6777 Kingsway</td><td>null</td><td>Burnaby</td><td>British Columbia</td><td>Canada</td><td>V5H 3Z7</td><td>2f3b383e-08a5-407d-ab1b-a1390e87a888</td><td>2006-08-01</td></tr><tr><td>457</td><td>5250-505 Burning St</td><td>null</td><td>Vancouver</td><td>British Columbia</td><td>Canada</td><td>V7L 4J4</td><td>93f02c61-783d-4f04-8a57-416f25817aba</td><td>2006-07-01</td></tr></tbody></table></div>"
      ]
     },
     "metadata": {
      "application/vnd.databricks.v1+output": {
       "addedWidgets": {},
       "aggData": [],
       "aggError": "",
       "aggOverflow": false,
       "aggSchema": [],
       "aggSeriesLimitReached": false,
       "aggType": "",
       "arguments": {},
       "columnCustomDisplayInfos": {},
       "data": [
        [
         9,
         "8713 Yosemite Ct.",
         null,
         "Bothell",
         "Washington",
         "United States",
         "98011",
         "268af621-76d7-4c78-9441-144fd139821a",
         "2006-07-01"
        ],
        [
         11,
         "1318 Lasalle Street",
         null,
         "Bothell",
         "Washington",
         "United States",
         "98011",
         "981b3303-aca2-49c7-9a96-fb670785b269",
         "2007-04-01"
        ],
        [
         25,
         "9178 Jumping St.",
         null,
         "Dallas",
         "Texas",
         "United States",
         "75201",
         "c8df3bd9-48f0-4654-a8dd-14a67a84d3c6",
         "2006-09-01"
        ],
        [
         28,
         "9228 Via Del Sol",
         null,
         "Phoenix",
         "Arizona",
         "United States",
         "85004",
         "12ae5ee1-fc3e-468b-9b92-3b970b169774",
         "2005-09-01"
        ],
        [
         32,
         "26910 Indela Road",
         null,
         "Montreal",
         "Quebec",
         "Canada",
         "H1Y 2H5",
         "84a95f62-3ae8-4e7e-bbd5-5a6f00cd982d",
         "2006-08-01"
        ],
        [
         185,
         "2681 Eagle Peak",
         null,
         "Bellevue",
         "Washington",
         "United States",
         "98004",
         "7bccf442-2268-46cc-8472-14c44c14e98c",
         "2006-09-01"
        ],
        [
         297,
         "7943 Walnut Ave",
         null,
         "Renton",
         "Washington",
         "United States",
         "98055",
         "52410da4-2778-4b1d-a599-95746625ce6d",
         "2006-08-01"
        ],
        [
         445,
         "6388 Lake City Way",
         null,
         "Burnaby",
         "British Columbia",
         "Canada",
         "V5A 3A6",
         "53572f25-9133-4a8b-a065-102ff35416ee",
         "2006-09-01"
        ],
        [
         446,
         "52560 Free Street",
         null,
         "Toronto",
         "Ontario",
         "Canada",
         "M4B 1V7",
         "801a1dfc-5125-486b-aa84-ccbd2ec57ca4",
         "2005-08-01"
        ],
        [
         447,
         "22580 Free Street",
         null,
         "Toronto",
         "Ontario",
         "Canada",
         "M4B 1V7",
         "88cee379-dbb8-433b-b84e-a35e09435500",
         "2006-08-01"
        ],
        [
         448,
         "2575 Bloor Street East",
         null,
         "Toronto",
         "Ontario",
         "Canada",
         "M4B 1V6",
         "2df6d0ad-0926-4f34-a450-9b1083150cbf",
         "2007-08-01"
        ],
        [
         449,
         "Station E",
         null,
         "Chalk Riber",
         "Ontario",
         "Canada",
         "K0J 1J0",
         "8b5a7729-cb75-4303-a607-7f9793b4d94f",
         "2005-08-01"
        ],
        [
         450,
         "575 Rue St Amable",
         null,
         "Quebec",
         "Quebec",
         "Canada",
         "G1R",
         "5f3c345a-6475-41d5-b17b-db8d27733bb1",
         "2006-09-01"
        ],
        [
         451,
         "2512-4th Ave Sw",
         null,
         "Calgary",
         "Alberta",
         "Canada",
         "T2P 2G8",
         "49644f1e-6f90-46d9-8dbb-9db15f0ef7ec",
         "2006-12-01"
        ],
        [
         452,
         "55 Lakeshore Blvd East",
         null,
         "Toronto",
         "Ontario",
         "Canada",
         "M4B 1V6",
         "a358652f-0e00-49e6-b6b0-de1099c43506",
         "2005-09-01"
        ],
        [
         453,
         "6333 Cote Vertu",
         null,
         "Montreal",
         "Quebec",
         "Canada",
         "H1Y 2H7",
         "355681f2-4d9d-4522-bfa0-105be64394d8",
         "2007-09-01"
        ],
        [
         454,
         "3255 Front Street West",
         null,
         "Toronto",
         "Ontario",
         "Canada",
         "M4B 1V6",
         "ef4dc57d-8b8b-4074-b5f0-acbef65dbec1",
         "2007-08-01"
        ],
        [
         455,
         "2550 Signet Drive",
         null,
         "Weston",
         "Ontario",
         "Canada",
         "M9V 4W3",
         "43d582cf-e95f-4861-ba60-2dc7121410a6",
         "2006-08-01"
        ],
        [
         456,
         "6777 Kingsway",
         null,
         "Burnaby",
         "British Columbia",
         "Canada",
         "V5H 3Z7",
         "2f3b383e-08a5-407d-ab1b-a1390e87a888",
         "2006-08-01"
        ],
        [
         457,
         "5250-505 Burning St",
         null,
         "Vancouver",
         "British Columbia",
         "Canada",
         "V7L 4J4",
         "93f02c61-783d-4f04-8a57-416f25817aba",
         "2006-07-01"
        ]
       ],
       "datasetInfos": [],
       "dbfsResultPath": null,
       "isJsonSchema": true,
       "metadata": {},
       "overflow": false,
       "plotOptions": {
        "customPlotOptions": {},
        "displayType": "table",
        "pivotAggregation": null,
        "pivotColumns": null,
        "xColumns": null,
        "yColumns": null
       },
       "removedWidgets": [],
       "schema": [
        {
         "metadata": "{}",
         "name": "AddressID",
         "type": "\"integer\""
        },
        {
         "metadata": "{}",
         "name": "AddressLine1",
         "type": "\"string\""
        },
        {
         "metadata": "{}",
         "name": "AddressLine2",
         "type": "\"string\""
        },
        {
         "metadata": "{}",
         "name": "City",
         "type": "\"string\""
        },
        {
         "metadata": "{}",
         "name": "StateProvince",
         "type": "\"string\""
        },
        {
         "metadata": "{}",
         "name": "CountryRegion",
         "type": "\"string\""
        },
        {
         "metadata": "{}",
         "name": "PostalCode",
         "type": "\"string\""
        },
        {
         "metadata": "{}",
         "name": "rowguid",
         "type": "\"string\""
        },
        {
         "metadata": "{}",
         "name": "ModifiedDate",
         "type": "\"string\""
        }
       ],
       "type": "table"
      }
     },
     "output_type": "display_data"
    }
   ],
   "source": [
    "# format the date column \n",
    "# in the other tables, date might be in sting or other formats, so we use to_date to convert to the date format first\n",
    "df = df.withColumn('ModifiedDate', date_format(to_date('ModifiedDate'), 'yyyy-MM-dd'))\n",
    "df.limit(20).display()"
   ]
  },
  {
   "cell_type": "code",
   "execution_count": 0,
   "metadata": {
    "application/vnd.databricks.v1+cell": {
     "cellMetadata": {
      "byteLimit": 2048000,
      "rowLimit": 10000
     },
     "inputWidgets": {},
     "nuid": "7e9527c8-96a0-4112-922a-a598c6dc0b6c",
     "showTitle": false,
     "tableResultSettingsMap": {},
     "title": ""
    }
   },
   "outputs": [
    {
     "output_type": "execute_result",
     "data": {
      "text/plain": [
       "['Address',\n",
       " 'Customer',\n",
       " 'CustomerAddress',\n",
       " 'Product',\n",
       " 'ProductCategory',\n",
       " 'ProductDescription',\n",
       " 'ProductModel',\n",
       " 'ProductModelProductDescription',\n",
       " 'SalesOrderDetail',\n",
       " 'SalesOrderHeader']"
      ]
     },
     "execution_count": 7,
     "metadata": {},
     "output_type": "execute_result"
    }
   ],
   "source": [
    "# there might be date columns in the other tables as well\n",
    "# iterate through each table and format the date column if the table has any\n",
    "table_names = []\n",
    "for items in dbutils.fs.ls(f\"{bronze_adls}/SalesLT\"):\n",
    "    table_names.append(items.name.split('/')[0])\n",
    "table_names"
   ]
  },
  {
   "cell_type": "code",
   "execution_count": 0,
   "metadata": {
    "application/vnd.databricks.v1+cell": {
     "cellMetadata": {
      "byteLimit": 2048000,
      "rowLimit": 10000
     },
     "inputWidgets": {},
     "nuid": "c7e85cf4-f738-4a36-83ae-6844b5a7ef98",
     "showTitle": false,
     "tableResultSettingsMap": {},
     "title": ""
    }
   },
   "outputs": [
    {
     "output_type": "execute_result",
     "data": {
      "text/plain": [
       "['AddressID',\n",
       " 'AddressLine1',\n",
       " 'AddressLine2',\n",
       " 'City',\n",
       " 'StateProvince',\n",
       " 'CountryRegion',\n",
       " 'PostalCode',\n",
       " 'rowguid',\n",
       " 'ModifiedDate']"
      ]
     },
     "execution_count": 8,
     "metadata": {},
     "output_type": "execute_result"
    }
   ],
   "source": [
    "df.columns"
   ]
  },
  {
   "cell_type": "code",
   "execution_count": 0,
   "metadata": {
    "application/vnd.databricks.v1+cell": {
     "cellMetadata": {
      "byteLimit": 2048000,
      "rowLimit": 10000
     },
     "inputWidgets": {},
     "nuid": "f3596ce5-d7a4-4e0c-96ab-5358b14eecdf",
     "showTitle": false,
     "tableResultSettingsMap": {},
     "title": ""
    }
   },
   "outputs": [],
   "source": [
    "# function definition to change the column names to snake_case\n",
    "\"\"\"\n",
    "Convert column names from PascalCase or camelCase to snake_case in a PySpark DataFrame.\n",
    "Args:\n",
    "    df (DataFrame): The input DataFrame with columns to be renamed.\n",
    "Returns:\n",
    "    DataFrame: A new DataFrame with column names converted to snake_case.\n",
    "\"\"\"\n",
    "\n",
    "def rename_columns_to_snake_case(df):\n",
    "    def to_snake_case(name):\n",
    "        result = []\n",
    "        for i, char in enumerate(name):\n",
    "            if char.isupper() and i > 0 and not name[i - 1].isupper():\n",
    "                result.append('_')\n",
    "            result.append(char.lower())\n",
    "        return ''.join(result)\n",
    "\n",
    "    # Build rename map\n",
    "    rename_map = {}\n",
    "    for col in df.columns:\n",
    "        new_col = to_snake_case(col)\n",
    "        if new_col in rename_map.values():\n",
    "            raise ValueError(f\"Duplicate column name after renaming: '{new_col}'\")\n",
    "        rename_map[col] = new_col\n",
    "\n",
    "    # Apply renaming\n",
    "    for old_name, new_name in rename_map.items():\n",
    "        df = df.withColumnRenamed(old_name, new_name)\n",
    "\n",
    "    return df\n"
   ]
  },
  {
   "cell_type": "code",
   "execution_count": 0,
   "metadata": {
    "application/vnd.databricks.v1+cell": {
     "cellMetadata": {
      "byteLimit": 2048000,
      "rowLimit": 10000
     },
     "inputWidgets": {},
     "nuid": "60753b3e-c7b8-430d-b1ba-d9d9ad3896e4",
     "showTitle": false,
     "tableResultSettingsMap": {},
     "title": ""
    }
   },
   "outputs": [],
   "source": [
    "# iterate through each table and for each table convert the column name to snake_case and format the date column\n",
    "for name in table_names:\n",
    "    df = spark.read\\\n",
    "        .format('parquet')\\\n",
    "            .load(f\"{bronze_adls}/SalesLT/{name}/{name}.parquet\")\n",
    "    df = rename_columns_to_snake_case(df)\n",
    "    cols = df.columns\n",
    "    for names in cols:\n",
    "        if 'Date' in names or 'date' in names:\n",
    "            df = df.withColumn(names, date_format(to_date(names), 'yyyy-MM-dd'))\n",
    "    df.write\\\n",
    "        .format('delta')\\\n",
    "            .mode('overwrite')\\\n",
    "                .option(\"mergeSchema\", \"true\")\\\n",
    "                    .save(f\"{silver_adls}/SalesLT/{name}\")\n"
   ]
  },
  {
   "cell_type": "code",
   "execution_count": 0,
   "metadata": {
    "application/vnd.databricks.v1+cell": {
     "cellMetadata": {
      "byteLimit": 2048000,
      "rowLimit": 10000
     },
     "inputWidgets": {},
     "nuid": "8b5bd3e3-e2c2-403e-b528-aa0dd7933988",
     "showTitle": false,
     "tableResultSettingsMap": {},
     "title": ""
    }
   },
   "outputs": [
    {
     "output_type": "display_data",
     "data": {
      "text/html": [
       "<style scoped>\n",
       "  .table-result-container {\n",
       "    max-height: 300px;\n",
       "    overflow: auto;\n",
       "  }\n",
       "  table, th, td {\n",
       "    border: 1px solid black;\n",
       "    border-collapse: collapse;\n",
       "  }\n",
       "  th, td {\n",
       "    padding: 5px;\n",
       "  }\n",
       "  th {\n",
       "    text-align: left;\n",
       "  }\n",
       "</style><div class='table-result-container'><table class='table-result'><thead style='background-color: white'><tr><th>sales_order_id</th><th>revision_number</th><th>order_date</th><th>due_date</th><th>ship_date</th><th>status</th><th>online_order_flag</th><th>sales_order_number</th><th>purchase_order_number</th><th>account_number</th><th>customer_id</th><th>ship_to_address_id</th><th>bill_to_address_id</th><th>ship_method</th><th>credit_card_approval_code</th><th>sub_total</th><th>tax_amt</th><th>freight</th><th>total_due</th><th>comment</th><th>rowguid</th><th>modified_date</th></tr></thead><tbody><tr><td>71774</td><td>2</td><td>2008-06-01</td><td>2008-06-13</td><td>2008-06-08</td><td>5</td><td>false</td><td>SO71774</td><td>PO348186287</td><td>10-4020-000609</td><td>29847</td><td>1092</td><td>1092</td><td>CARGO TRANSPORT 5</td><td>null</td><td>880.3484</td><td>70.4279</td><td>22.0087</td><td>972.7850</td><td>null</td><td>89e42cdc-8506-48a2-b89b-eb3e64e3554e</td><td>2008-06-08</td></tr><tr><td>71776</td><td>2</td><td>2008-06-01</td><td>2008-06-13</td><td>2008-06-08</td><td>5</td><td>false</td><td>SO71776</td><td>PO19952192051</td><td>10-4020-000106</td><td>30072</td><td>640</td><td>640</td><td>CARGO TRANSPORT 5</td><td>null</td><td>78.8100</td><td>6.3048</td><td>1.9703</td><td>87.0851</td><td>null</td><td>8a3448c5-e677-4158-a29b-dd33069be0b0</td><td>2008-06-08</td></tr><tr><td>71780</td><td>2</td><td>2008-06-01</td><td>2008-06-13</td><td>2008-06-08</td><td>5</td><td>false</td><td>SO71780</td><td>PO19604173239</td><td>10-4020-000340</td><td>30113</td><td>653</td><td>653</td><td>CARGO TRANSPORT 5</td><td>null</td><td>38418.6895</td><td>3073.4952</td><td>960.4672</td><td>42452.6519</td><td>null</td><td>a47665d2-7ac9-4cf3-8a8b-2a3883554284</td><td>2008-06-08</td></tr><tr><td>71782</td><td>2</td><td>2008-06-01</td><td>2008-06-13</td><td>2008-06-08</td><td>5</td><td>false</td><td>SO71782</td><td>PO19372114749</td><td>10-4020-000582</td><td>29485</td><td>1086</td><td>1086</td><td>CARGO TRANSPORT 5</td><td>null</td><td>39785.3304</td><td>3182.8264</td><td>994.6333</td><td>43962.7901</td><td>null</td><td>f1be45a5-5c57-4a50-93c6-5f8be44cb7cb</td><td>2008-06-08</td></tr><tr><td>71783</td><td>2</td><td>2008-06-01</td><td>2008-06-13</td><td>2008-06-08</td><td>5</td><td>false</td><td>SO71783</td><td>PO19343113609</td><td>10-4020-000024</td><td>29957</td><td>992</td><td>992</td><td>CARGO TRANSPORT 5</td><td>null</td><td>83858.4261</td><td>6708.6741</td><td>2096.4607</td><td>92663.5609</td><td>null</td><td>7db2329e-6446-42a8-8915-9c8370b68ed8</td><td>2008-06-08</td></tr><tr><td>71784</td><td>2</td><td>2008-06-01</td><td>2008-06-13</td><td>2008-06-08</td><td>5</td><td>false</td><td>SO71784</td><td>PO19285135919</td><td>10-4020-000448</td><td>29736</td><td>659</td><td>659</td><td>CARGO TRANSPORT 5</td><td>null</td><td>108561.8317</td><td>8684.9465</td><td>2714.0458</td><td>119960.8240</td><td>null</td><td>ca31f324-2c32-4f8d-95eb-596e7f343027</td><td>2008-06-08</td></tr><tr><td>71796</td><td>2</td><td>2008-06-01</td><td>2008-06-13</td><td>2008-06-08</td><td>5</td><td>false</td><td>SO71796</td><td>PO17052159664</td><td>10-4020-000420</td><td>29660</td><td>1058</td><td>1058</td><td>CARGO TRANSPORT 5</td><td>null</td><td>57634.6342</td><td>4610.7707</td><td>1440.8659</td><td>63686.2708</td><td>null</td><td>917ef5ba-f32d-4563-8588-66db0bcdc846</td><td>2008-06-08</td></tr><tr><td>71797</td><td>2</td><td>2008-06-01</td><td>2008-06-13</td><td>2008-06-08</td><td>5</td><td>false</td><td>SO71797</td><td>PO16501134889</td><td>10-4020-000142</td><td>29796</td><td>642</td><td>642</td><td>CARGO TRANSPORT 5</td><td>null</td><td>78029.6898</td><td>6242.3752</td><td>1950.7422</td><td>86222.8072</td><td>null</td><td>bb3fee84-c8bf-4dd2-bcca-675ab6a11c38</td><td>2008-06-08</td></tr><tr><td>71815</td><td>2</td><td>2008-06-01</td><td>2008-06-13</td><td>2008-06-08</td><td>5</td><td>false</td><td>SO71815</td><td>PO13021155785</td><td>10-4020-000276</td><td>30089</td><td>1034</td><td>1034</td><td>CARGO TRANSPORT 5</td><td>null</td><td>1141.5782</td><td>91.3263</td><td>28.5395</td><td>1261.4440</td><td>null</td><td>2aa5f39b-1096-4a4b-b17b-f10504a397ce</td><td>2008-06-08</td></tr><tr><td>71816</td><td>2</td><td>2008-06-01</td><td>2008-06-13</td><td>2008-06-08</td><td>5</td><td>false</td><td>SO71816</td><td>PO12992180445</td><td>10-4020-000295</td><td>30027</td><td>1038</td><td>1038</td><td>CARGO TRANSPORT 5</td><td>null</td><td>3398.1659</td><td>271.8533</td><td>84.9541</td><td>3754.9733</td><td>null</td><td>e3c189e7-98de-4c40-b6c2-0d1d13f9bb33</td><td>2008-06-08</td></tr><tr><td>71831</td><td>2</td><td>2008-06-01</td><td>2008-06-13</td><td>2008-06-08</td><td>5</td><td>false</td><td>SO71831</td><td>PO10295111084</td><td>10-4020-000322</td><td>30019</td><td>652</td><td>652</td><td>CARGO TRANSPORT 5</td><td>null</td><td>2016.3408</td><td>161.3073</td><td>50.4085</td><td>2228.0566</td><td>null</td><td>625d76fc-c26f-4149-bf24-939fb2bccd77</td><td>2008-06-08</td></tr><tr><td>71832</td><td>2</td><td>2008-06-01</td><td>2008-06-13</td><td>2008-06-08</td><td>5</td><td>false</td><td>SO71832</td><td>PO10353140756</td><td>10-4020-000088</td><td>29922</td><td>639</td><td>639</td><td>CARGO TRANSPORT 5</td><td>null</td><td>35775.2113</td><td>2862.0169</td><td>894.3803</td><td>39531.6085</td><td>null</td><td>addb8620-432a-456e-8470-1bedd4bc3457</td><td>2008-06-08</td></tr><tr><td>71845</td><td>2</td><td>2008-06-01</td><td>2008-06-13</td><td>2008-06-08</td><td>5</td><td>false</td><td>SO71845</td><td>PO2697119362</td><td>10-4020-000187</td><td>29938</td><td>1020</td><td>1020</td><td>CARGO TRANSPORT 5</td><td>null</td><td>41622.0511</td><td>3329.7641</td><td>1040.5513</td><td>45992.3665</td><td>null</td><td>e68f7ee9-c581-45cd-9c4f-386aeda74d84</td><td>2008-06-08</td></tr><tr><td>71846</td><td>2</td><td>2008-06-01</td><td>2008-06-13</td><td>2008-06-08</td><td>5</td><td>false</td><td>SO71846</td><td>PO2378131604</td><td>10-4020-000635</td><td>30102</td><td>669</td><td>669</td><td>CARGO TRANSPORT 5</td><td>null</td><td>2453.7645</td><td>196.3012</td><td>61.3441</td><td>2711.4098</td><td>null</td><td>a86d90ad-d1c0-440d-9a57-5b763bf18234</td><td>2008-06-08</td></tr><tr><td>71856</td><td>2</td><td>2008-06-01</td><td>2008-06-13</td><td>2008-06-08</td><td>5</td><td>false</td><td>SO71856</td><td>PO16530177647</td><td>10-4020-000601</td><td>30033</td><td>1090</td><td>1090</td><td>CARGO TRANSPORT 5</td><td>null</td><td>602.1946</td><td>48.1756</td><td>15.0549</td><td>665.4251</td><td>null</td><td>05fee073-0640-4a3c-914d-fe4ae6da3d43</td><td>2008-06-08</td></tr><tr><td>71858</td><td>2</td><td>2008-06-01</td><td>2008-06-13</td><td>2008-06-08</td><td>5</td><td>false</td><td>SO71858</td><td>PO16153112278</td><td>10-4020-000186</td><td>29653</td><td>1019</td><td>1019</td><td>CARGO TRANSPORT 5</td><td>null</td><td>13823.7083</td><td>1105.8967</td><td>345.5927</td><td>15275.1977</td><td>null</td><td>5ef091e1-a0af-437d-85ed-0b557c7923f7</td><td>2008-06-08</td></tr><tr><td>71863</td><td>2</td><td>2008-06-01</td><td>2008-06-13</td><td>2008-06-08</td><td>5</td><td>false</td><td>SO71863</td><td>PO16124166561</td><td>10-4020-000649</td><td>29975</td><td>1098</td><td>1098</td><td>CARGO TRANSPORT 5</td><td>null</td><td>3324.2759</td><td>265.9421</td><td>83.1069</td><td>3673.3249</td><td>null</td><td>3ed03b56-a4bf-4872-9471-bc6c7893eab7</td><td>2008-06-08</td></tr><tr><td>71867</td><td>2</td><td>2008-06-01</td><td>2008-06-13</td><td>2008-06-08</td><td>5</td><td>false</td><td>SO71867</td><td>PO13050111529</td><td>10-4020-000160</td><td>29644</td><td>643</td><td>643</td><td>CARGO TRANSPORT 5</td><td>null</td><td>1059.3100</td><td>84.7448</td><td>26.4828</td><td>1170.5376</td><td>null</td><td>29743c1b-d3af-4cfe-bd2e-6de436e3398f</td><td>2008-06-08</td></tr><tr><td>71885</td><td>2</td><td>2008-06-01</td><td>2008-06-13</td><td>2008-06-08</td><td>5</td><td>false</td><td>SO71885</td><td>PO6119130779</td><td>10-4020-000268</td><td>29612</td><td>649</td><td>649</td><td>CARGO TRANSPORT 5</td><td>null</td><td>550.3860</td><td>44.0309</td><td>13.7597</td><td>608.1766</td><td>null</td><td>caad090d-56a6-444e-af24-7bee7605f120</td><td>2008-06-08</td></tr><tr><td>71895</td><td>2</td><td>2008-06-01</td><td>2008-06-13</td><td>2008-06-08</td><td>5</td><td>false</td><td>SO71895</td><td>PO3770176273</td><td>10-4020-000151</td><td>29584</td><td>1014</td><td>1014</td><td>CARGO TRANSPORT 5</td><td>null</td><td>246.7392</td><td>19.7391</td><td>6.1685</td><td>272.6468</td><td>null</td><td>07a17c0a-7f9a-4413-a035-519e5a4573be</td><td>2008-06-08</td></tr></tbody></table></div>"
      ]
     },
     "metadata": {
      "application/vnd.databricks.v1+output": {
       "addedWidgets": {},
       "aggData": [],
       "aggError": "",
       "aggOverflow": false,
       "aggSchema": [],
       "aggSeriesLimitReached": false,
       "aggType": "",
       "arguments": {},
       "columnCustomDisplayInfos": {},
       "data": [
        [
         71774,
         2,
         "2008-06-01",
         "2008-06-13",
         "2008-06-08",
         5,
         false,
         "SO71774",
         "PO348186287",
         "10-4020-000609",
         29847,
         1092,
         1092,
         "CARGO TRANSPORT 5",
         null,
         "880.3484",
         "70.4279",
         "22.0087",
         "972.7850",
         null,
         "89e42cdc-8506-48a2-b89b-eb3e64e3554e",
         "2008-06-08"
        ],
        [
         71776,
         2,
         "2008-06-01",
         "2008-06-13",
         "2008-06-08",
         5,
         false,
         "SO71776",
         "PO19952192051",
         "10-4020-000106",
         30072,
         640,
         640,
         "CARGO TRANSPORT 5",
         null,
         "78.8100",
         "6.3048",
         "1.9703",
         "87.0851",
         null,
         "8a3448c5-e677-4158-a29b-dd33069be0b0",
         "2008-06-08"
        ],
        [
         71780,
         2,
         "2008-06-01",
         "2008-06-13",
         "2008-06-08",
         5,
         false,
         "SO71780",
         "PO19604173239",
         "10-4020-000340",
         30113,
         653,
         653,
         "CARGO TRANSPORT 5",
         null,
         "38418.6895",
         "3073.4952",
         "960.4672",
         "42452.6519",
         null,
         "a47665d2-7ac9-4cf3-8a8b-2a3883554284",
         "2008-06-08"
        ],
        [
         71782,
         2,
         "2008-06-01",
         "2008-06-13",
         "2008-06-08",
         5,
         false,
         "SO71782",
         "PO19372114749",
         "10-4020-000582",
         29485,
         1086,
         1086,
         "CARGO TRANSPORT 5",
         null,
         "39785.3304",
         "3182.8264",
         "994.6333",
         "43962.7901",
         null,
         "f1be45a5-5c57-4a50-93c6-5f8be44cb7cb",
         "2008-06-08"
        ],
        [
         71783,
         2,
         "2008-06-01",
         "2008-06-13",
         "2008-06-08",
         5,
         false,
         "SO71783",
         "PO19343113609",
         "10-4020-000024",
         29957,
         992,
         992,
         "CARGO TRANSPORT 5",
         null,
         "83858.4261",
         "6708.6741",
         "2096.4607",
         "92663.5609",
         null,
         "7db2329e-6446-42a8-8915-9c8370b68ed8",
         "2008-06-08"
        ],
        [
         71784,
         2,
         "2008-06-01",
         "2008-06-13",
         "2008-06-08",
         5,
         false,
         "SO71784",
         "PO19285135919",
         "10-4020-000448",
         29736,
         659,
         659,
         "CARGO TRANSPORT 5",
         null,
         "108561.8317",
         "8684.9465",
         "2714.0458",
         "119960.8240",
         null,
         "ca31f324-2c32-4f8d-95eb-596e7f343027",
         "2008-06-08"
        ],
        [
         71796,
         2,
         "2008-06-01",
         "2008-06-13",
         "2008-06-08",
         5,
         false,
         "SO71796",
         "PO17052159664",
         "10-4020-000420",
         29660,
         1058,
         1058,
         "CARGO TRANSPORT 5",
         null,
         "57634.6342",
         "4610.7707",
         "1440.8659",
         "63686.2708",
         null,
         "917ef5ba-f32d-4563-8588-66db0bcdc846",
         "2008-06-08"
        ],
        [
         71797,
         2,
         "2008-06-01",
         "2008-06-13",
         "2008-06-08",
         5,
         false,
         "SO71797",
         "PO16501134889",
         "10-4020-000142",
         29796,
         642,
         642,
         "CARGO TRANSPORT 5",
         null,
         "78029.6898",
         "6242.3752",
         "1950.7422",
         "86222.8072",
         null,
         "bb3fee84-c8bf-4dd2-bcca-675ab6a11c38",
         "2008-06-08"
        ],
        [
         71815,
         2,
         "2008-06-01",
         "2008-06-13",
         "2008-06-08",
         5,
         false,
         "SO71815",
         "PO13021155785",
         "10-4020-000276",
         30089,
         1034,
         1034,
         "CARGO TRANSPORT 5",
         null,
         "1141.5782",
         "91.3263",
         "28.5395",
         "1261.4440",
         null,
         "2aa5f39b-1096-4a4b-b17b-f10504a397ce",
         "2008-06-08"
        ],
        [
         71816,
         2,
         "2008-06-01",
         "2008-06-13",
         "2008-06-08",
         5,
         false,
         "SO71816",
         "PO12992180445",
         "10-4020-000295",
         30027,
         1038,
         1038,
         "CARGO TRANSPORT 5",
         null,
         "3398.1659",
         "271.8533",
         "84.9541",
         "3754.9733",
         null,
         "e3c189e7-98de-4c40-b6c2-0d1d13f9bb33",
         "2008-06-08"
        ],
        [
         71831,
         2,
         "2008-06-01",
         "2008-06-13",
         "2008-06-08",
         5,
         false,
         "SO71831",
         "PO10295111084",
         "10-4020-000322",
         30019,
         652,
         652,
         "CARGO TRANSPORT 5",
         null,
         "2016.3408",
         "161.3073",
         "50.4085",
         "2228.0566",
         null,
         "625d76fc-c26f-4149-bf24-939fb2bccd77",
         "2008-06-08"
        ],
        [
         71832,
         2,
         "2008-06-01",
         "2008-06-13",
         "2008-06-08",
         5,
         false,
         "SO71832",
         "PO10353140756",
         "10-4020-000088",
         29922,
         639,
         639,
         "CARGO TRANSPORT 5",
         null,
         "35775.2113",
         "2862.0169",
         "894.3803",
         "39531.6085",
         null,
         "addb8620-432a-456e-8470-1bedd4bc3457",
         "2008-06-08"
        ],
        [
         71845,
         2,
         "2008-06-01",
         "2008-06-13",
         "2008-06-08",
         5,
         false,
         "SO71845",
         "PO2697119362",
         "10-4020-000187",
         29938,
         1020,
         1020,
         "CARGO TRANSPORT 5",
         null,
         "41622.0511",
         "3329.7641",
         "1040.5513",
         "45992.3665",
         null,
         "e68f7ee9-c581-45cd-9c4f-386aeda74d84",
         "2008-06-08"
        ],
        [
         71846,
         2,
         "2008-06-01",
         "2008-06-13",
         "2008-06-08",
         5,
         false,
         "SO71846",
         "PO2378131604",
         "10-4020-000635",
         30102,
         669,
         669,
         "CARGO TRANSPORT 5",
         null,
         "2453.7645",
         "196.3012",
         "61.3441",
         "2711.4098",
         null,
         "a86d90ad-d1c0-440d-9a57-5b763bf18234",
         "2008-06-08"
        ],
        [
         71856,
         2,
         "2008-06-01",
         "2008-06-13",
         "2008-06-08",
         5,
         false,
         "SO71856",
         "PO16530177647",
         "10-4020-000601",
         30033,
         1090,
         1090,
         "CARGO TRANSPORT 5",
         null,
         "602.1946",
         "48.1756",
         "15.0549",
         "665.4251",
         null,
         "05fee073-0640-4a3c-914d-fe4ae6da3d43",
         "2008-06-08"
        ],
        [
         71858,
         2,
         "2008-06-01",
         "2008-06-13",
         "2008-06-08",
         5,
         false,
         "SO71858",
         "PO16153112278",
         "10-4020-000186",
         29653,
         1019,
         1019,
         "CARGO TRANSPORT 5",
         null,
         "13823.7083",
         "1105.8967",
         "345.5927",
         "15275.1977",
         null,
         "5ef091e1-a0af-437d-85ed-0b557c7923f7",
         "2008-06-08"
        ],
        [
         71863,
         2,
         "2008-06-01",
         "2008-06-13",
         "2008-06-08",
         5,
         false,
         "SO71863",
         "PO16124166561",
         "10-4020-000649",
         29975,
         1098,
         1098,
         "CARGO TRANSPORT 5",
         null,
         "3324.2759",
         "265.9421",
         "83.1069",
         "3673.3249",
         null,
         "3ed03b56-a4bf-4872-9471-bc6c7893eab7",
         "2008-06-08"
        ],
        [
         71867,
         2,
         "2008-06-01",
         "2008-06-13",
         "2008-06-08",
         5,
         false,
         "SO71867",
         "PO13050111529",
         "10-4020-000160",
         29644,
         643,
         643,
         "CARGO TRANSPORT 5",
         null,
         "1059.3100",
         "84.7448",
         "26.4828",
         "1170.5376",
         null,
         "29743c1b-d3af-4cfe-bd2e-6de436e3398f",
         "2008-06-08"
        ],
        [
         71885,
         2,
         "2008-06-01",
         "2008-06-13",
         "2008-06-08",
         5,
         false,
         "SO71885",
         "PO6119130779",
         "10-4020-000268",
         29612,
         649,
         649,
         "CARGO TRANSPORT 5",
         null,
         "550.3860",
         "44.0309",
         "13.7597",
         "608.1766",
         null,
         "caad090d-56a6-444e-af24-7bee7605f120",
         "2008-06-08"
        ],
        [
         71895,
         2,
         "2008-06-01",
         "2008-06-13",
         "2008-06-08",
         5,
         false,
         "SO71895",
         "PO3770176273",
         "10-4020-000151",
         29584,
         1014,
         1014,
         "CARGO TRANSPORT 5",
         null,
         "246.7392",
         "19.7391",
         "6.1685",
         "272.6468",
         null,
         "07a17c0a-7f9a-4413-a035-519e5a4573be",
         "2008-06-08"
        ]
       ],
       "datasetInfos": [],
       "dbfsResultPath": null,
       "isJsonSchema": true,
       "metadata": {},
       "overflow": false,
       "plotOptions": {
        "customPlotOptions": {},
        "displayType": "table",
        "pivotAggregation": null,
        "pivotColumns": null,
        "xColumns": null,
        "yColumns": null
       },
       "removedWidgets": [],
       "schema": [
        {
         "metadata": "{}",
         "name": "sales_order_id",
         "type": "\"integer\""
        },
        {
         "metadata": "{}",
         "name": "revision_number",
         "type": "\"integer\""
        },
        {
         "metadata": "{}",
         "name": "order_date",
         "type": "\"string\""
        },
        {
         "metadata": "{}",
         "name": "due_date",
         "type": "\"string\""
        },
        {
         "metadata": "{}",
         "name": "ship_date",
         "type": "\"string\""
        },
        {
         "metadata": "{}",
         "name": "status",
         "type": "\"integer\""
        },
        {
         "metadata": "{}",
         "name": "online_order_flag",
         "type": "\"boolean\""
        },
        {
         "metadata": "{}",
         "name": "sales_order_number",
         "type": "\"string\""
        },
        {
         "metadata": "{}",
         "name": "purchase_order_number",
         "type": "\"string\""
        },
        {
         "metadata": "{}",
         "name": "account_number",
         "type": "\"string\""
        },
        {
         "metadata": "{}",
         "name": "customer_id",
         "type": "\"integer\""
        },
        {
         "metadata": "{}",
         "name": "ship_to_address_id",
         "type": "\"integer\""
        },
        {
         "metadata": "{}",
         "name": "bill_to_address_id",
         "type": "\"integer\""
        },
        {
         "metadata": "{}",
         "name": "ship_method",
         "type": "\"string\""
        },
        {
         "metadata": "{}",
         "name": "credit_card_approval_code",
         "type": "\"string\""
        },
        {
         "metadata": "{}",
         "name": "sub_total",
         "type": "\"decimal(19,4)\""
        },
        {
         "metadata": "{}",
         "name": "tax_amt",
         "type": "\"decimal(19,4)\""
        },
        {
         "metadata": "{}",
         "name": "freight",
         "type": "\"decimal(19,4)\""
        },
        {
         "metadata": "{}",
         "name": "total_due",
         "type": "\"decimal(19,4)\""
        },
        {
         "metadata": "{}",
         "name": "comment",
         "type": "\"string\""
        },
        {
         "metadata": "{}",
         "name": "rowguid",
         "type": "\"string\""
        },
        {
         "metadata": "{}",
         "name": "modified_date",
         "type": "\"string\""
        }
       ],
       "type": "table"
      }
     },
     "output_type": "display_data"
    }
   ],
   "source": [
    "# check if the changes have been applied to the last df in the iteration\n",
    "df.limit(20).display()"
   ]
  },
  {
   "cell_type": "code",
   "execution_count": 0,
   "metadata": {
    "application/vnd.databricks.v1+cell": {
     "cellMetadata": {
      "byteLimit": 2048000,
      "rowLimit": 10000
     },
     "inputWidgets": {},
     "nuid": "18c539bb-be39-4307-b1ef-558ba8c28c28",
     "showTitle": false,
     "tableResultSettingsMap": {},
     "title": ""
    }
   },
   "outputs": [],
   "source": [
    "# define the output variables\n",
    "output_data = {'bronze_adls': bronze_adls,\n",
    "               'silver_adls': silver_adls,\n",
    "               'gold_adls': gold_adls}\n",
    "dbutils.notebook.exit(json.dumps(output_data))"
   ]
  },
  {
   "cell_type": "code",
   "execution_count": 0,
   "metadata": {
    "application/vnd.databricks.v1+cell": {
     "cellMetadata": {},
     "inputWidgets": {},
     "nuid": "73b104ce-cbb4-4f45-b3ce-a0f1967115e6",
     "showTitle": false,
     "tableResultSettingsMap": {},
     "title": ""
    }
   },
   "outputs": [],
   "source": []
  }
 ],
 "metadata": {
  "application/vnd.databricks.v1+notebook": {
   "computePreferences": null,
   "dashboards": [],
   "environmentMetadata": {
    "base_environment": "",
    "environment_version": "2"
   },
   "inputWidgetPreferences": null,
   "language": "python",
   "notebookMetadata": {
    "pythonIndentUnit": 4
   },
   "notebookName": "Bronze to Silver",
   "widgets": {}
  },
  "language_info": {
   "name": "python"
  }
 },
 "nbformat": 4,
 "nbformat_minor": 0
}