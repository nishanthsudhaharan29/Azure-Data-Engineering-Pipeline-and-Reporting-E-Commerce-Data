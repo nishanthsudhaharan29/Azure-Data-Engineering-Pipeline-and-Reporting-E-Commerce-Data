{
 "cells": [
  {
   "cell_type": "code",
   "execution_count": 0,
   "metadata": {
    "application/vnd.databricks.v1+cell": {
     "cellMetadata": {
      "byteLimit": 2048000,
      "rowLimit": 10000
     },
     "inputWidgets": {},
     "nuid": "2d3aedea-fb9e-4a3a-9760-60650cea10e7",
     "showTitle": false,
     "tableResultSettingsMap": {},
     "title": ""
    }
   },
   "outputs": [],
   "source": [
    "from pyspark.sql.functions import *\n",
    "from pyspark.sql.types import *"
   ]
  },
  {
   "cell_type": "code",
   "execution_count": 0,
   "metadata": {
    "application/vnd.databricks.v1+cell": {
     "cellMetadata": {},
     "inputWidgets": {},
     "nuid": "d7053a47-fdcd-426a-b76c-f42b556b3a36",
     "showTitle": false,
     "tableResultSettingsMap": {},
     "title": ""
    }
   },
   "outputs": [],
   "source": [
    "# get the output parameters from the bronze_to_silver notebook\n",
    "dbutils.widgets.text('bronze_adls','')\n",
    "dbutils.widgets.text('silver_adls','')\n",
    "dbutils.widgets.text('gold_adls','')\n",
    "\n",
    "bronze_adls = dbutils.widgets.get('bronze_adls')\n",
    "silver_adls = dbutils.widgets.get('silver_adls')\n",
    "gold_adls = dbutils.widgets.get('gold_adls')\n",
    "\n",
    "# list the files in the bronze ADLS\n",
    "dbutils.fs.ls(f\"{silver_adls}/SalesLT\")"
   ]
  },
  {
   "cell_type": "code",
   "execution_count": 0,
   "metadata": {
    "application/vnd.databricks.v1+cell": {
     "cellMetadata": {
      "byteLimit": 2048000,
      "rowLimit": 10000
     },
     "inputWidgets": {},
     "nuid": "fc53f7c3-0761-48f0-be68-6155e62fc2f1",
     "showTitle": false,
     "tableResultSettingsMap": {},
     "title": ""
    }
   },
   "outputs": [
    {
     "output_type": "execute_result",
     "data": {
      "text/plain": [
       "[FileInfo(path='abfss://silver@salesadls2.dfs.core.windows.net/SalesLT/Address/', name='Address/', size=0, modificationTime=1747025623000),\n",
       " FileInfo(path='abfss://silver@salesadls2.dfs.core.windows.net/SalesLT/Customer/', name='Customer/', size=0, modificationTime=1747025626000),\n",
       " FileInfo(path='abfss://silver@salesadls2.dfs.core.windows.net/SalesLT/CustomerAddress/', name='CustomerAddress/', size=0, modificationTime=1747025628000),\n",
       " FileInfo(path='abfss://silver@salesadls2.dfs.core.windows.net/SalesLT/Product/', name='Product/', size=0, modificationTime=1747025631000),\n",
       " FileInfo(path='abfss://silver@salesadls2.dfs.core.windows.net/SalesLT/ProductCategory/', name='ProductCategory/', size=0, modificationTime=1747025633000),\n",
       " FileInfo(path='abfss://silver@salesadls2.dfs.core.windows.net/SalesLT/ProductDescription/', name='ProductDescription/', size=0, modificationTime=1747025635000),\n",
       " FileInfo(path='abfss://silver@salesadls2.dfs.core.windows.net/SalesLT/ProductModel/', name='ProductModel/', size=0, modificationTime=1747025638000),\n",
       " FileInfo(path='abfss://silver@salesadls2.dfs.core.windows.net/SalesLT/ProductModelProductDescription/', name='ProductModelProductDescription/', size=0, modificationTime=1747025639000),\n",
       " FileInfo(path='abfss://silver@salesadls2.dfs.core.windows.net/SalesLT/SalesOrderDetail/', name='SalesOrderDetail/', size=0, modificationTime=1747025641000),\n",
       " FileInfo(path='abfss://silver@salesadls2.dfs.core.windows.net/SalesLT/SalesOrderHeader/', name='SalesOrderHeader/', size=0, modificationTime=1747025644000)]"
      ]
     },
     "execution_count": 49,
     "metadata": {},
     "output_type": "execute_result"
    }
   ],
   "source": [
    "\"\"\"\n",
    "# comment this block out after creating jobs to retrieve the task value pairs from the previous notebook\n",
    "# mount ADLS\n",
    "tiers = ['bronze', 'silver', 'gold']\n",
    "adls_path = {tier: f\"abfss://{tier}@salesadls2.dfs.core.windows.net/\" for tier in tiers}\n",
    "# assign the reference path to each ADLS\n",
    "bronze_adls = adls_path['bronze']\n",
    "silver_adls = adls_path['silver']\n",
    "gold_adls = adls_path['gold']\n",
    "# list the files in the bronze ADLS\n",
    "dbutils.fs.ls(f\"{silver_adls}/SalesLT\")\n",
    "\"\"\""
   ]
  },
  {
   "cell_type": "code",
   "execution_count": 0,
   "metadata": {
    "application/vnd.databricks.v1+cell": {
     "cellMetadata": {
      "byteLimit": 2048000,
      "rowLimit": 10000
     },
     "inputWidgets": {},
     "nuid": "9ad4297d-33e4-4d04-9533-20882e359196",
     "showTitle": false,
     "tableResultSettingsMap": {},
     "title": ""
    }
   },
   "outputs": [
    {
     "output_type": "execute_result",
     "data": {
      "text/plain": [
       "['Address',\n",
       " 'Customer',\n",
       " 'CustomerAddress',\n",
       " 'Product',\n",
       " 'ProductCategory',\n",
       " 'ProductDescription',\n",
       " 'ProductModel',\n",
       " 'ProductModelProductDescription',\n",
       " 'SalesOrderDetail',\n",
       " 'SalesOrderHeader']"
      ]
     },
     "execution_count": 50,
     "metadata": {},
     "output_type": "execute_result"
    }
   ],
   "source": [
    "# extract the table names from the directory\n",
    "table_names = []\n",
    "for items in dbutils.fs.ls(f\"{silver_adls}/SalesLT\"):\n",
    "    table_names.append(items.name.split('/')[0])\n",
    "table_names"
   ]
  },
  {
   "cell_type": "code",
   "execution_count": 0,
   "metadata": {
    "application/vnd.databricks.v1+cell": {
     "cellMetadata": {
      "byteLimit": 2048000,
      "rowLimit": 10000
     },
     "inputWidgets": {},
     "nuid": "6306d4e6-9c03-43c2-b87f-43d0cb742cbb",
     "showTitle": false,
     "tableResultSettingsMap": {},
     "title": ""
    }
   },
   "outputs": [],
   "source": [
    "%python\n",
    "# iterate through the table names, read, perform transformations, and write to the gold ADLS\n",
    "for table in table_names:\n",
    "    df = spark.read\\\n",
    "        .format(\"delta\")\\\n",
    "        .load(f\"{silver_adls}/SalesLT/{table}\")\n",
    "    if table == 'Address':\n",
    "        # rename the column\n",
    "        df = df.withColumnRenamed('country_region', 'country')\n",
    "    if table == 'SalesOrderDetail':\n",
    "        # rename the column\n",
    "        df = df.withColumnRenamed('line_total', 'total_price')\n",
    "    if table == 'ProductModelProductDescription':\n",
    "        # expand the abbreviations\n",
    "        df = df.withColumn('culture', \n",
    "                           when(col('culture') == 'en', 'English')\n",
    "                           .when(col('culture') == 'fr', 'French')\n",
    "                           .when(col('culture') == 'ar', 'Arabic')\n",
    "                           .when(col('culture') == 'th', 'Thai')\n",
    "                           .when(col('culture') == 'he', 'Hebrew')\n",
    "                           .when(col('culture') == 'zh-cht', 'Traditional Chinese')\n",
    "                           .otherwise(col('culture')))\n",
    "    if table == 'Customer':\n",
    "        # create a new column 'gender'\n",
    "        df = df.withColumn('gender',\n",
    "                           when((col('title') == 'Mr.') | (col('title') == 'Sr.'), 'Male')\n",
    "                           .when((col('title') == 'Ms.') | (col('title') == 'Sra.'), 'Female')\n",
    "                           .otherwise('Unknown')) \n",
    "        # rename the column\n",
    "        df = df.withColumnRenamed('sales_person', 'sales_person_id')\n",
    "        # extract sales person name\n",
    "        df = df.withColumn('sales_person', initcap(substring(col('sales_person_id'), 17, length(col('sales_person_id')) - 17)))\n",
    "        # format the phone number\n",
    "        df = df.withColumn('phone',\n",
    "                           substring(\n",
    "                               regexp_replace(col('phone'), r\"[^0-9]\", \"\"),\n",
    "                               length(regexp_replace(col('phone'), r\"[^0-9]\", \"\")) - 9,\n",
    "                               10))\n",
    "    # write the transformed data to the gold ADLS\n",
    "    df.write\\\n",
    "        .format(\"delta\")\\\n",
    "        .mode('overwrite')\\\n",
    "        .option('mergeSchema', True)\\\n",
    "        .save(f\"{gold_adls}/SalesLT/{table}\")"
   ]
  },
  {
   "cell_type": "code",
   "execution_count": 0,
   "metadata": {
    "application/vnd.databricks.v1+cell": {
     "cellMetadata": {
      "byteLimit": 2048000,
      "rowLimit": 10000
     },
     "inputWidgets": {},
     "nuid": "84a12301-a131-4563-b95c-c83b36fa7967",
     "showTitle": false,
     "tableResultSettingsMap": {},
     "title": ""
    }
   },
   "outputs": [
    {
     "output_type": "execute_result",
     "data": {
      "text/plain": [
       "[FileInfo(path='abfss://gold@salesadls2.dfs.core.windows.net/SalesLT/Address/', name='Address/', size=0, modificationTime=1747025681000),\n",
       " FileInfo(path='abfss://gold@salesadls2.dfs.core.windows.net/SalesLT/Customer/', name='Customer/', size=0, modificationTime=1747025684000),\n",
       " FileInfo(path='abfss://gold@salesadls2.dfs.core.windows.net/SalesLT/CustomerAddress/', name='CustomerAddress/', size=0, modificationTime=1747025686000),\n",
       " FileInfo(path='abfss://gold@salesadls2.dfs.core.windows.net/SalesLT/Product/', name='Product/', size=0, modificationTime=1747025689000),\n",
       " FileInfo(path='abfss://gold@salesadls2.dfs.core.windows.net/SalesLT/ProductCategory/', name='ProductCategory/', size=0, modificationTime=1747025691000),\n",
       " FileInfo(path='abfss://gold@salesadls2.dfs.core.windows.net/SalesLT/ProductDescription/', name='ProductDescription/', size=0, modificationTime=1747025694000),\n",
       " FileInfo(path='abfss://gold@salesadls2.dfs.core.windows.net/SalesLT/ProductModel/', name='ProductModel/', size=0, modificationTime=1747025696000),\n",
       " FileInfo(path='abfss://gold@salesadls2.dfs.core.windows.net/SalesLT/ProductModelProductDescription/', name='ProductModelProductDescription/', size=0, modificationTime=1747025698000),\n",
       " FileInfo(path='abfss://gold@salesadls2.dfs.core.windows.net/SalesLT/SalesOrderDetail/', name='SalesOrderDetail/', size=0, modificationTime=1747025701000),\n",
       " FileInfo(path='abfss://gold@salesadls2.dfs.core.windows.net/SalesLT/SalesOrderHeader/', name='SalesOrderHeader/', size=0, modificationTime=1747025703000)]"
      ]
     },
     "execution_count": 52,
     "metadata": {},
     "output_type": "execute_result"
    }
   ],
   "source": [
    "# check if the write is successful\n",
    "dbutils.fs.ls(f\"{gold_adls}/SalesLT\")"
   ]
  },
  {
   "cell_type": "code",
   "execution_count": 0,
   "metadata": {
    "application/vnd.databricks.v1+cell": {
     "cellMetadata": {},
     "inputWidgets": {},
     "nuid": "ac7915f9-caba-4559-9dfb-a0d5a672f72a",
     "showTitle": false,
     "tableResultSettingsMap": {},
     "title": ""
    }
   },
   "outputs": [],
   "source": []
  }
 ],
 "metadata": {
  "application/vnd.databricks.v1+notebook": {
   "computePreferences": null,
   "dashboards": [],
   "environmentMetadata": {
    "base_environment": "",
    "environment_version": "2"
   },
   "inputWidgetPreferences": null,
   "language": "python",
   "notebookMetadata": {
    "pythonIndentUnit": 4
   },
   "notebookName": "Silver to Gold",
   "widgets": {}
  },
  "language_info": {
   "name": "python"
  }
 },
 "nbformat": 4,
 "nbformat_minor": 0
}